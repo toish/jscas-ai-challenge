{
 "cells": [
  {
   "cell_type": "markdown",
   "metadata": {},
   "source": [
    "# はじめに\n",
    "\n",
    "本文書は，日本コンピュータ外科学会によって開催されたJSCAS AI Challengeという機械学習のコンペティションに参加したときの記録です．\n",
    "\n",
    "https://www.jscas.org/business/2020/09/c83412be4feb3ca543c74d759fee400c073cda07.html\n",
    "\n",
    "\n",
    "この文書では大きく分けて2つの話題，コンペティションまでに行ったこと，コンペティション後に他の人の発表を参考に改善を試みたこと，について書きます．\n",
    "\n",
    "コンペティションの発表までに行ったこととしては，モデルの選定，損失関数の調査，パラメータチューニングなどがあります．\n",
    "\n",
    "また，アンサンブル学習を行い，結果的にこれが最も効果のある学習方法でした．\n",
    "今回は主にこのアンサンブル学習について実際にどのように行ったのか書きます．\n",
    "\n",
    "コンペティション後には，他の人の発表を参考にしながら改善を試みました．\n",
    "こちらについては結果的に大きな精度の向上は達成できませんでしたが，\n",
    "いくつか実験を行ったので記録として書きます．\n"
   ]
  },
  {
   "cell_type": "markdown",
   "metadata": {},
   "source": [
    "# コンペティション概要\n",
    "\n",
    "先に述べた通り，参加したコンペティションは，日本コンピュータ外科学会によって開催されたJSCAS AI Challengeという名前の機械学習コンペティションです．\n",
    "\n",
    "コンペティションで要求されるタスクは，内視鏡外科手術画像の中から術具の先端部分を自動で識別せよ，というセマンティックセグメンテーションタスクです．\n",
    "\n",
    "具体的には超音波凝固切開装置と呼ばれる医療器具が画像に写っており，\n",
    "切開を行う先端部分を認識することが求められていることです．\n",
    "\n",
    "また，この超音波凝固切開装置には新旧の二種類が存在し，それを扱うか否かによって以下の2つのタスクレベルに分けられていました．\n",
    "\n",
    "- レベル1：新旧の区別無く術具の先端を認識\n",
    "- レベル2：新旧の区別（クラスタリング）を行いかつ，術具の先端を認識\n",
    "\n",
    "今回私はレベル1のみを行いました（機械学習初心者でクラスタリングまで手が回らなかったためです）．"
   ]
  },
  {
   "cell_type": "markdown",
   "metadata": {},
   "source": [
    "## 評価指標\n",
    "\n",
    "評価指標にはF値を使います．\n",
    "セマンティックセグメンテーションでは各ピクセルごとに正誤判定ができます．\n",
    "正誤判定において正と判定されたもののうち実際に正であるものの割合をprecision,\n",
    "実際に正であるもののうち正と判定されたものの割合をrecallと呼び，\n",
    "precisionとrecallの調和平均をF値と呼びます．\n",
    "\n",
    "Precision, Recallの定義を具体的に示します。\n",
    "\n",
    "||真の結果・正|真の結果・負|\n",
    "|----------|-------------|--------------|\n",
    "|予測結果・正|True Positive(TP)|False Positive(FP)|\n",
    "|予測結果・負|False Negattve(FN)|True Negative(TN)|\n",
    "\n",
    "表に示すように、予測結果と真の結果の組み合わせ、TP,FP,FN,TNが与えられるとき、正解率（Accuracy）, 適合率（Precision）、再現率（Recall）,F値(F-measure)はそれぞれ以下の式で与えられます。\n",
    "\n",
    "$Accuracy=\\frac{TP+TN}{TP+FP+TN+FB}$\n",
    "\n",
    "$Precision=\\frac{TP}{TP+FP}$\n",
    "\n",
    "$Recall=\\frac{TP}{TP+FN}$\n",
    "\n",
    "$F=\\frac{2 \\cdot Recall \\cdot Precision}{Recall + Precision}$"
   ]
  },
  {
   "cell_type": "markdown",
   "metadata": {},
   "source": [
    "## データセット\n",
    "\n",
    "データセットは以下の通りです．\n",
    "\n",
    "- トレーニング画像\n",
    "    - 325枚\n",
    "- テスト画像\n",
    "    - 75枚\n",
    "- 検証画像\n",
    "    - 150枚（新：75枚，旧：75枚）\n",
    "    - セグメンテーションの難易度毎にeasy, middle, hardに分類される\n",
    "\n",
    "以下に表示してあるのが，トレーニング画像のサンプルです．\n",
    "\n",
    "![sample_training](./jscas_ai_challenge_2020_data/sample_training.png)\n",
    "\n",
    "また，すべての画像には対応するラベル画像があり，\n",
    "ラベル画像は背景(0)，旧(1)，新(2)が各ピクセルに割り当てられています．\n",
    "\n",
    "画像にラベル画像をマスクするとこのような形になります．\n",
    "（右側の画像では，術具の先端が黄色で塗られています）\n",
    "\n",
    "![sample_label](./jscas_ai_challenge_2020_data/sample_label.png)\n",
    "\n",
    "    \n",
    "ラベルを含む画像データはJSCASのページに公開されています．\n",
    "http://bit.ly/ai20data\n",
    "    "
   ]
  },
  {
   "cell_type": "markdown",
   "metadata": {},
   "source": [
    "# 手法\n",
    "\n",
    "本チャレンジで実施した手法は以下の通りです．\n",
    "\n",
    "- どのようにデータの前処理をおこなったか\n",
    "- どのような識別器を用いたか\n",
    "    - モデル\n",
    "    - 損失関数\n",
    "    - 最適化アルゴリズム\n",
    "- どのように術具の領域を推定したか\n"
   ]
  },
  {
   "cell_type": "markdown",
   "metadata": {},
   "source": [
    "## 前処理\n",
    "\n",
    "トレーニング画像325枚に対して，精度向上を目的として,いくつかの前処理を行います．\n",
    "- mixup\n",
    "- Data Augumentation(DA)"
   ]
  },
  {
   "cell_type": "markdown",
   "metadata": {},
   "source": [
    "### mixup\n",
    "\n",
    "mixupはトレーニング用の画像を複数枚混ぜた画像を学習に用いる手法です．\n",
    "\n",
    "今回はトレーニング画像からランダムに二枚の画像を選択して混合する方法をとります．\n",
    "\n",
    "数式で表現すると，以下のようになります．\n",
    "\n",
    "$\\lambda \\times image_1 + (1 - \\lambda) \\times image_2$  \n",
    "$\\lambda = Beta(\\alpha, \\alpha)$\n",
    "\n",
    "今回$\\alpha$の値は0.4に設定しました．"
   ]
  },
  {
   "cell_type": "markdown",
   "metadata": {},
   "source": [
    "### DataAugmentation(以下DA)\n",
    "\n",
    "DAではトレーニング画像を加工して，その画像を学習に用います．\n",
    "\n",
    "今回行ったDAは以下の通りです．\n",
    "\n",
    "- 平行移動，反転などのアフィン変換\n",
    "- 明るさ\n",
    "- 色の濃度の変更\n",
    "\n",
    "\n",
    "kerasには `ImageDataGenerator`という画像加工用のクラスが用意されていて，これを用いてDAを行いました．\n",
    "\n",
    "実際に書くときは以下のような書き方で，複数の画像処理を行うことができます．\n",
    "\n",
    "```python:da.py\n",
    "ImageDataGenerator(\n",
    "    brightness_range=(0.5, 1.5)\n",
    ")\n",
    "```"
   ]
  },
  {
   "cell_type": "markdown",
   "metadata": {},
   "source": [
    "## 学習モデル\n",
    "\n",
    "モデルはDeepLabv3+を用いました．\n",
    "    \n",
    "DeepLabv3+はGoogleが2018年に出したモデルで，空間ピラミッドプーリング\n",
    "モジュールと、Encoder-Decoder モデルの利点を組み合わせたモデルです．\n",
    "詳しくは論文やQiitaのまとめなどを参照してください．\n",
    "https://qiita.com/mine820/items/14e7c556b358dbc4ee9a\n",
    "\n",
    "他にセマンティックセグメンテーションにおいて有名なモデルとしてU-netがあります．\n",
    "U-netとDeepLabv3+で学習速度を比較するとDeepLabv3+のほうが早く，高速にイテレーションを回すことができます．\n",
    "\n",
    "ちなみに他のコンペティション参加者の多くはU-netを使って私より高い精度を出していました．\n",
    "あまりモデル差が出ないのは事前に想像していた印象と違っていたので，これは勉強になりました．\n",
    "\n",
    "参考にしたコードからの変更点としては，ドロップアウト率を0.5に変更したこと，があります．"
   ]
  },
  {
   "cell_type": "markdown",
   "metadata": {},
   "source": [
    "### 損失関数\n",
    "\n",
    "損失関数については，いくつかの調査を行いました．\n",
    "セマンティックセグメンテーションでは，認識対象の領域と背景との比率が大きく異る場合があります．\n",
    "今回扱うデータにおいても，術具の先端という非常に小さい領域が認識対象です．\n",
    "そのような場合には一般的なbinary cross entroyよりもセマンティックセグメンテーションに特化した損失関数を用いると，精度が向上する場合があります．\n",
    "\n",
    "今回は以下のような損失関数を検討しました．\n",
    "\n",
    "- binary crossentropy\n",
    "- sigmoid focal loss\n",
    "- focal tversky\n",
    "- boundary loss\n",
    "\n",
    "結果としてfocal tverskyを基本的に使用しました．\n",
    "後述するアンサンブル学習の関係で，一部の識別器ではboundary loss関数をfocal tverskyと併用している場合もあります．\n",
    "\n",
    "こちらもモデル同様ですが，他の参加者は一般的なbinary crossentropyを使っていました．\n",
    "\n",
    "おそらくですが，最初にボトルネックになるのはデータの多様性といった問題で，\n",
    "それを解決したあとで初めてモデルや損失関数の変更が効いてくるのではないかなと思います．"
   ]
  },
  {
   "cell_type": "markdown",
   "metadata": {},
   "source": [
    "## アンサンブル学習\n",
    "\n",
    "複数の弱識別器を組み合わせて学習・推論を行う機械学習の手法をアンサンブル学習といいます．\n",
    "\n",
    "今回は複数の分類器の出力の平均を取ることでより良い分類（セグメンテーション）結果を得る，という形でアンサンブル学習の考え方を取り入れています．\n"
   ]
  },
  {
   "cell_type": "markdown",
   "metadata": {},
   "source": [
    "コンペティションに提出した際に使った識別器は以下の３つです．\n",
    "- DA有り($y_1$)\n",
    "- DA無し($y_2$)\n",
    "- 損失関数の違い($y_3$)\n",
    "\n",
    "上記の3つの結果を用いて、最終的なセマンティックセグメンテーションの結果Lは以下の式で得ることができます。\n",
    "\n",
    "$L = [\\frac{y_1 + y_2 + y_3}{3}+0.5]$\n",
    "    "
   ]
  },
  {
   "cell_type": "markdown",
   "metadata": {},
   "source": [
    "# 評価\n",
    "\n",
    "実際の推定結果を比較して，アンサンブル学習の効果を確かめます．"
   ]
  },
  {
   "cell_type": "markdown",
   "metadata": {},
   "source": [
    "\n",
    "```python:train.py\n",
    "# 疑似コードですので実行しても動きません\n",
    "\n",
    "# DA\n",
    "# セマンティックセグメンテーションの場合はラベルも画像のため，\n",
    "# 平行移動や回転などのアフィン変換はラベル画像も一緒に変換してあげる必要があります\n",
    "data_augmentation()\n",
    "\n",
    "# create model\n",
    "model1 = DeepLabv3()\n",
    "model2 = DeepLabv3()\n",
    "model3 = DeepLabv3()\n",
    "\n",
    "# training\n",
    "# 実際には識別器(model1, 2, 3)はそれぞれ別に学習しています\n",
    "model1.train()\n",
    "model2.train()\n",
    "model3.train()\n",
    "\n",
    "# estimation\n",
    "result1 = predict(model1)\n",
    "result2 = predict(model2)\n",
    "result3 = predict(model3)\n",
    "result = (result1+result2+result3)/3.0\n",
    "\n",
    "```\n"
   ]
  },
  {
   "cell_type": "markdown",
   "metadata": {},
   "source": [
    "学習した識別器の性能を確かめるために，テストデータを用いて，識別器の推定精度を算出します．\n",
    "テストデータは識別難易度ごとにeasy,middle,hardに分かれており，それぞれについて推定精度を出します．\n",
    "3つの識別器それぞれの推定結果とアンサンブル学習の結果を図示しています．\n",
    "(hardについては，認識することが困難であったため，図から除外しています．)\n",
    "\n",
    "![result](./jscas_ai_challenge_2020_data/compare4.png)\n",
    "\n",
    "- FT+DA（青色）    \n",
    "- FT（橙色）       \n",
    "- FT+BL（緑色）    \n",
    "- ensenbled（赤色）\n",
    "\n",
    "青色のグラフはfocal tversky + data augmentation,\n",
    "橙色のグラフはfocal tversky,\n",
    "緑色のグラフはfocal tversky + boundary loss,\n",
    "赤色のグラフはアンサンブル学習の結果，\n",
    "となっています．\n",
    "\n",
    "アンサンブル学習に用いる識別器の選択は，今回はヒューリスティックに行いました．\n",
    "\n",
    "\n",
    "アンサンブル学習によってすべての難易度で二番目の精度を達成していることがわかります．\n",
    "\n",
    "それぞれの識別器に得意不得意なデータがありますが，アンサンブル学習を行うことによって，平均的に優秀な識別器を作成可能である，ということがわかりました．"
   ]
  },
  {
   "cell_type": "markdown",
   "metadata": {},
   "source": [
    "# 評価の結果に基づいた改良\n",
    "\n",
    "ここからはコンペティション発表後に行った実験について，いくつか紹介します．\n",
    "結論から書くと識別性能に大きく寄与するような学習方法は発見できませんでしたが，記録として残しておこうと思います．\n",
    "（特に識別できていなかったhardの画像を識別可能になることを期待したのですが，うまくいきませんでした）"
   ]
  },
  {
   "cell_type": "markdown",
   "metadata": {},
   "source": [
    "さて，行ったこととしては，\n",
    "\n",
    "- fog, DefocusBlurなどの画像処理をDAとして行う\n",
    "- RGBチャンネルに加えて，RGBチャンネルに前処理を施したデータを4つ目以降の特徴量として扱う\n",
    "- 上下反転のみでDAを行う\n",
    "\n",
    "といったものがあります．\n",
    "\n",
    "\n"
   ]
  },
  {
   "cell_type": "markdown",
   "metadata": {},
   "source": [
    "## fog, DefocusBlurなどの画像処理をDA\n",
    "\n",
    "セグメンテーション精度が悪かった画像として，切開で焼き切るときに発生する煙で曇っていたり，カメラのピントがずれているものが多く見られました．\n",
    "とりわけテストデータの識別難易度hardはそのような画像が多く，これが識別困難の原因である可能性があります．\n",
    "\n",
    "そのような画像をDAで生成して識別器を訓練することで精度が向上するのではないだろうか，というのがこの試みです．\n",
    "\n",
    "DAにはimgaugライブラリを用いました．\n",
    "Fog(煙っぽい処理)やDefocusBlur(ピントのズレ)関数が用意されていて，簡単に画像を加工することができます．\n",
    "\n",
    "以下に具体例を示します．"
   ]
  },
  {
   "cell_type": "code",
   "execution_count": 31,
   "metadata": {},
   "outputs": [
    {
     "data": {
      "text/plain": [
       "<matplotlib.image.AxesImage at 0x7fb9cc3b95e0>"
      ]
     },
     "execution_count": 31,
     "metadata": {},
     "output_type": "execute_result"
    },
    {
     "data": {
      "image/png": "[encoded data removed]",
      "text/plain": [
       "<Figure size 432x288 with 1 Axes>"
      ]
     },
     "metadata": {
      "needs_background": "light"
     },
     "output_type": "display_data"
    }
   ],
   "source": [
    "import imgaug.augmenters as iaa\n",
    "import numpy as np\n",
    "import cv2\n",
    "\n",
    "aug = iaa.SomeOf((0, None), [\n",
    "  iaa.imgcorruptlike.Fog(severity=2), # kemuri\n",
    "  iaa.AddToBrightness((-30, 30)),\n",
    "  iaa.imgcorruptlike.DefocusBlur(severity=2), # camera no pinto\n",
    "  iaa.Affine(scale=(0.8, 1.2), translate_percent={\"x\": (-0.2, 0.2), \"y\": (-0.2, 0.2)}),\n",
    "  iaa.Rotate((-45, 45))\n",
    "  ])\n",
    "\n",
    "# 実際に画像を加工してみる\n",
    "img = cv2.imread('jscas_ai_challenge_2020_data/bar.png', cv2.IMREAD_COLOR)\n",
    "img_aug = aug.augment_image(img)\n",
    "\n",
    "# 画像を出力するコード\n",
    "import matplotlib.pyplot as plt\n",
    "plt.imshow(img)"
   ]
  },
  {
   "cell_type": "markdown",
   "metadata": {},
   "source": [
    "`SomeOf`は渡した処理のうちいくつかを適用します．\n",
    "他にも順番に処理を適用する`Sequential`や，\n",
    "渡した処理のうち一つだけを適用する`OneOf`など便利な関数があります．"
   ]
  },
  {
   "cell_type": "markdown",
   "metadata": {},
   "source": [
    "結果をグラフで示します．\n",
    "\n",
    "![result](./jscas_ai_challenge_2020_data/bar2.png)\n",
    "![compare](./jscas_ai_challenge_2020_data/compare5.png)\n",
    "\n",
    "アンサンブル学習の結果と比較すると，すべての難易度で精度が下がっています．\n",
    "\n",
    "原因としては，\n",
    "\n",
    "- DAによる画像加工が強すぎた\n",
    "- 適用されるフィルターがランダムで，求めるような画像に加工されていなかった可能性\n",
    "\n",
    "などが考えられます．\n",
    "\n",
    "次に行う検証としては`Sequential`などを使って一つずつフィルターを適用し，どのフィルターで精度が向上するのか確かめる，といったことが考えられると思います．"
   ]
  },
  {
   "cell_type": "markdown",
   "metadata": {},
   "source": [
    "## データに合わせた特徴量の追加\n",
    "\n",
    "内視鏡手術画像の特徴として内臓からなる赤色が多くを占めるというものがあります．\n",
    "対して術具先端は黒に近い色で構成されているため，RGB空間でうまく分離できるのではないかと考えました．\n",
    "RGBチャネルのみを入力特徴量として扱うことで，内臓と術具先端を分けることができるのが理想ですが，実際にはそうでないこともあるため，明示的に新しい特徴量を導入することでうまくいかないかという試みです．\n",
    "\n",
    "今回は目的の処理を行うためにopencvのpythonライブラリを使いました．\n",
    "`threshold`という関数があり閾値処理をして画像の二値化ができます．\n",
    "\n",
    "具体例をコードで示します．"
   ]
  },
  {
   "cell_type": "code",
   "execution_count": 48,
   "metadata": {},
   "outputs": [
    {
     "data": {
      "text/plain": [
       "<matplotlib.image.AxesImage at 0x7fb9cc102370>"
      ]
     },
     "execution_count": 48,
     "metadata": {},
     "output_type": "execute_result"
    },
    {
     "data": {
      "image/png": "[encoded data removed]",
      "text/plain": [
       "<Figure size 432x288 with 1 Axes>"
      ]
     },
     "metadata": {
      "needs_background": "light"
     },
     "output_type": "display_data"
    }
   ],
   "source": [
    "import cv2\n",
    "img = cv2.imread('jscas_ai_challenge_2020_data/bar.png', cv2.IMREAD_COLOR)\n",
    "\n",
    "# しきい値で切り上げ\n",
    "img_threshold = cv2.threshold(img[:,:,0], 100, 255, cv2.THRESH_BINARY)[1]\n",
    "\n",
    "import matplotlib.pyplot as plt\n",
    "plt.imshow(img_threshold, cmap='gray')"
   ]
  },
  {
   "cell_type": "markdown",
   "metadata": {},
   "source": [
    "`thoreshold`関数の第一引数に渡す画像のピクセル値は0~255の範囲にあります．\n",
    "ピクセル値が第二引数で指定した値以上の場合，そのピクセル値を第三引数の値にします．\n",
    "第四引数は数値の切り上げ方のオプションで，グラデーションで変化させることもできます．\n",
    "\n",
    "詳しくは以下のリンクに詳細な解説が書いてあります．\n",
    "http://labs.eecs.tottori-u.ac.jp/sd/Member/oyamada/OpenCV/html/py_tutorials/py_imgproc/py_thresholding/py_thresholding.html\n",
    "\n"
   ]
  },
  {
   "cell_type": "markdown",
   "metadata": {},
   "source": [
    "結果をグラフで示します．\n",
    "\n",
    "![result](./jscas_ai_challenge_2020_data/bar3.png)\n",
    "![compare](./jscas_ai_challenge_2020_data/compare6.png)\n",
    "\n",
    "アンサンブル学習の結果と比較すると，難易度がeasyのデータに対してはやや精度が向上する結果になりました．\n",
    "しかし，難易度がmiddleのデータに関しては精度が低下しています．\n",
    "\n",
    "今回は`cv2.threshold()`の閾値を，術具と内臓を分離できそうなところ，という観点から自分で決めました．\n",
    "そのため，より良い閾値を探索するアルゴリズムを用いて閾値を決めることで，結果が改善する可能性があります．"
   ]
  },
  {
   "cell_type": "markdown",
   "metadata": {},
   "source": [
    "## 上下反転のDA\n",
    "\n",
    "実際にどのようなDAが効果的なのか，という疑問から試してみた一例です．\n",
    "\n",
    "これもopencvの関数`cv2.flip()`を用いました．\n",
    "\n",
    "具体例は以下の通りです．"
   ]
  },
  {
   "cell_type": "code",
   "execution_count": 51,
   "metadata": {},
   "outputs": [
    {
     "data": {
      "text/plain": [
       "<matplotlib.image.AxesImage at 0x7fb9cc1566a0>"
      ]
     },
     "execution_count": 51,
     "metadata": {},
     "output_type": "execute_result"
    },
    {
     "data": {
      "image/png": "[encoded data removed]",
      "text/plain": [
       "<Figure size 432x288 with 1 Axes>"
      ]
     },
     "metadata": {
      "needs_background": "light"
     },
     "output_type": "display_data"
    }
   ],
   "source": [
    "import cv2\n",
    "img = cv2.imread('jscas_ai_challenge_2020_data/bar.png', cv2.IMREAD_COLOR)\n",
    "\n",
    "# flipCode: {0(上下反転),1(左右反転),-1(上下左右反転)}\n",
    "flipCode = 0\n",
    "img_flip = cv2.flip(img, flipCode) \n",
    "\n",
    "import matplotlib.pyplot as plt\n",
    "plt.imshow(img_flip, cmap='gray')"
   ]
  },
  {
   "cell_type": "markdown",
   "metadata": {},
   "source": [
    "この実験で使う識別器は，与えられたデータのまま学習を行っています．\n",
    "推論の段階で，検証データ対してflipを行う/行わないの二通りを試して，\n",
    "精度で比較します．\n",
    "\n",
    "実際の精度は以下のようになりました．\n",
    "\n",
    "|            | flip(上下反転) | no flip      |\n",
    "|:-----------|------------:|:------------:|\n",
    "| ACE_easy   | 0.186624    | 0.378732     |\n",
    "| ACE_middle | 0.640430    | 0.408440     |\n",
    "| HD_easy    | 0.529929    | 0.488181     |\n",
    "| HD_middle  | 0.434052    | 0.356442     |\n",
    "\n",
    "\n",
    "flipしたデータではACE_easyだけ精度が下がり，他の難易度では精度が向上しました．\n",
    "\n",
    "おそらく，データの絶対数が少なく，術具の向きに対する汎化性能を確保できなかったのではないでしょうか．\n"
   ]
  },
  {
   "cell_type": "markdown",
   "metadata": {},
   "source": [
    "# まとめ\n",
    "\n",
    "本文書では，日本コンピュータ外科学会によるJSCAS AI Challengeコンペティションに参加した際にどういう実験を行ったのか，についてまとめました．\n",
    "\n",
    "今回のチャレンジでは，DeepLabv3+を用いてセマンティックセグメンテーションを行う手法を実装しました．\n",
    "\n",
    "試したいくつかの手法の中で効果的だったのは，アンサンブル学習で，三つの識別器をアンサンブル学習させることで平均的に優秀な識別器ができました．\n",
    "\n",
    "コンペティション参加後には，識別困難だった画像に似せて加工するDAや，\n",
    "予め閾値によって大まかに術具と背景をわけた画像をRGB画像とともに特徴量に加えることを試しましたが，これらによって精度向上することはできませんでした．\n",
    "\n",
    "コンペティションの上位勢を参考にするに，いろいろなフィルターを用いたDAは有効だと考えられるので，上記の試みに加えいろいろなフィルターを適用することで，より良い精度が得られる可能性は残っていると考えられます．"
   ]
  },
  {
   "cell_type": "markdown",
   "metadata": {},
   "source": [
    "# 参考\n",
    "\n",
    "- [JSCAS AI Challenge - 学会事業 | 一般社団法人 日本コンピュータ外科学会](https://www.jscas.org/business/2020/09/c83412be4feb3ca543c74d759fee400c073cda07.html)\n",
    "- [Qiita - DeepLab v3+（意訳）](https://qiita.com/mine820/items/14e7c556b358dbc4ee9a)"
   ]
  }
 ],
 "metadata": {
  "kernelspec": {
   "display_name": "Python 3",
   "language": "python",
   "name": "python3"
  },
  "language_info": {
   "codemirror_mode": {
    "name": "ipython",
    "version": 3
   },
   "file_extension": ".py",
   "mimetype": "text/x-python",
   "name": "python",
   "nbconvert_exporter": "python",
   "pygments_lexer": "ipython3",
   "version": "3.8.6"
  },
  "toc-autonumbering": true,
  "toc-showcode": true,
  "toc-showmarkdowntxt": true
 },
 "nbformat": 4,
 "nbformat_minor": 4
}
